{
 "cells": [
  {
   "cell_type": "markdown",
   "id": "81d546fc-8359-4392-ac3c-57078a7e3a10",
   "metadata": {},
   "source": [
    "# Implementazione del task 7 - Process Mining\n",
    "\n",
    "Questo task consiste nel trasformare la sequenza di transazioni calcolata nel task 5 in un file `.xes` in modo che possa essere correttamente trasformata in un processo da [Apromore](https://apromore.com/download/)."
   ]
  },
  {
   "cell_type": "code",
   "execution_count": 1,
   "id": "dd591112-d52f-4c48-b4b7-dd41be657a85",
   "metadata": {},
   "outputs": [],
   "source": [
    "# IMPORT\n",
    "import nbimporter\n",
    "import ETLBasics_t1 as task1\n",
    "import ProfilingBasics_t2 as task2\n",
    "import TimeSeriesToEvents_t3 as task3\n",
    "import FeatureReduction_t4 as task4\n",
    "import MakeTransactions_t5 as task5\n",
    "\n",
    "from datetime import datetime\n",
    "import dateutil as du\n",
    "import pandas as pd\n",
    "from xml.etree.ElementTree import Element, SubElement, Comment, tostring, ElementTree\n",
    "from xml.dom import minidom\n",
    "\n",
    "import warnings\n",
    "warnings.simplefilter(\"ignore\", UserWarning)"
   ]
  },
  {
   "cell_type": "code",
   "execution_count": 2,
   "id": "4831c666",
   "metadata": {},
   "outputs": [],
   "source": [
    "# VARIABILI\n",
    "PATH = './pmdata/'\n",
    "people = [1,2,3]"
   ]
  },
  {
   "cell_type": "code",
   "execution_count": 3,
   "id": "d330d390",
   "metadata": {},
   "outputs": [],
   "source": [
    "# IPER-PARAMETRI\n",
    "\n",
    "# raggruppamento task 3\n",
    "K_GROUP_DAY = 2\n",
    "K_GROUP_HOUR = 4\n",
    "\n",
    "# attributi temporali per le label task 5\n",
    "times_attributes = []  #['week_day','weekend']"
   ]
  },
  {
   "cell_type": "markdown",
   "id": "cabfb9f8",
   "metadata": {},
   "source": [
    "### Implementazione del task 1"
   ]
  },
  {
   "cell_type": "code",
   "execution_count": 4,
   "id": "38d7c3c8",
   "metadata": {},
   "outputs": [],
   "source": [
    "sedentary_minutes = task1.sedentary_minutes_to_df(PATH, people)\n",
    "sleep_0, sleep_1 = task1.sleep_to_df(PATH, people)\n",
    "exercise_0, exercise_1 = task1.exercise_to_df(PATH, people)\n",
    "lightly_active_minutes = task1.lightly_active_minutes_to_df(PATH, people)\n",
    "time_in_heart_rate_zones = task1.time_in_heart_rate_zones_to_df(PATH, people)\n",
    "moderately_active_minutes = task1.moderately_active_minutes_to_df(PATH, people)\n",
    "very_active_minutes = task1.very_active_minutes_to_df(PATH, people)\n",
    "resting_heart_rate = task1.resting_heart_rate_to_df(PATH, people)\n",
    "srpe = task1.srpe_to_df(PATH, people)\n",
    "wellness = task1.wellness_to_df(PATH, people)\n",
    "injury = task1.injury_to_df(PATH, people)\n",
    "\n",
    "try:\n",
    "    steps = pd.read_pickle(\"dataframes/steps.pkl\").loc[people]\n",
    "    distance = pd.read_pickle(\"dataframes/distance.pkl\").loc[people]\n",
    "    calories = pd.read_pickle(\"dataframes/calories.pkl\").loc[people]\n",
    "    heart_rate = pd.read_pickle(\"dataframes/heart_rate.pkl\").loc[people]\n",
    "except:\n",
    "    steps = task1.steps_to_df(PATH, people)\n",
    "    distance = task1.distance_to_df(PATH, people)\n",
    "    calories = task1.calories_to_df(PATH, people)\n",
    "    heart_rate = task1.heart_rate_to_df(PATH, people)"
   ]
  },
  {
   "cell_type": "markdown",
   "id": "496019e2",
   "metadata": {},
   "source": [
    "### Implementazione dei task 3, 4 e 5"
   ]
  },
  {
   "cell_type": "code",
   "execution_count": 5,
   "id": "895c618f",
   "metadata": {},
   "outputs": [],
   "source": [
    "group_time_series_map = {\n",
    "    'DAY':  [sedentary_minutes,lightly_active_minutes,moderately_active_minutes,very_active_minutes,resting_heart_rate,time_in_heart_rate_zones],\n",
    "    'HOUR': [calories]  #,distance,heart_rate,steps\n",
    "}\n",
    "event_name = [exercise_0,exercise_1]  #,sleep_0,sleep_1,srpe,wellness,injury\n",
    "\n",
    "day_kmeans_data = []\n",
    "hour_kmeans_data = []\n",
    "event_kmeans_data = []\n",
    "\n",
    "for df in group_time_series_map['DAY']:\n",
    "    df = task3.from_ts_to_event_based_data(df,'DAY', K_GROUP_DAY) # questo andrà ad aggiungere per ogni colonna numerica _mean e _std\n",
    "    df = task4.kmeans_discretization(df)\n",
    "    day_kmeans_data.append(df)\n",
    "\n",
    "for df in group_time_series_map['HOUR']:\n",
    "    df = task3.from_ts_to_event_based_data(df,'HOUR', K_GROUP_HOUR)\n",
    "    df = task4.kmeans_discretization(df)\n",
    "    hour_kmeans_data.append(df)\n",
    "\n",
    "for event in event_name:\n",
    "    event = task4.kmeans_discretization(event, is_event=True)\n",
    "    # estraggo le colonna TS per utilizzare la procedura che crea le transazioni\n",
    "    # Viene estratto dall'indice TS e viene creata la corrispondente colonna TS\n",
    "    event = event.reset_index(level='TS')\n",
    "    event['obj_TS'] = [x for x in event['TS']]  # per evitare errori in caso di ricalcolo del task 5\n",
    "    event_kmeans_data.append(event)\n",
    "\n",
    "transactions = task5.make_transactions(day_kmeans_data, hour_kmeans_data, event_kmeans_data, times_attributes=times_attributes)"
   ]
  },
  {
   "cell_type": "markdown",
   "id": "72af74ff",
   "metadata": {},
   "source": [
    "## Process Mining\n",
    "\n",
    "Il process mining permette l'analisi di processi basati sui log degli eventi allo scopo di estrarre conoscenza da questi ultimi. Infatti, l'obiettivo del process mining è quello di migliorare la descrizione di un processo attraverso tecniche e strumenti utili a scoprire strutture, modelli e molte altre informazioni a partire dai log."
   ]
  },
  {
   "cell_type": "code",
   "execution_count": 6,
   "id": "727999a6-eac3-488e-96e5-c220c56f166e",
   "metadata": {},
   "outputs": [],
   "source": [
    "# FUNZIONI TASK 7\n",
    "def time_string(_str):\n",
    "    return _str.replace(' ', 'T') + 'Z'\n",
    "\n",
    "def prettify(elem):\n",
    "    \"\"\"\n",
    "    Return a pretty-printed XML string for the Element.\n",
    "    \n",
    "    \"\"\"\n",
    "    \n",
    "    rough_string = tostring(elem, 'utf-8')\n",
    "    reparsed = minidom.parseString(rough_string)\n",
    "    return reparsed.toprettyxml(indent=\"  \")\n",
    "\n",
    "def current_tree():\n",
    "    print(prettify(root))"
   ]
  },
  {
   "cell_type": "code",
   "execution_count": 7,
   "id": "f971c8a5-fa90-42a0-8a45-ad91912dd232",
   "metadata": {},
   "outputs": [
    {
     "name": "stdout",
     "output_type": "stream",
     "text": [
      "<?xml version=\"1.0\" ?>\n",
      "<log openxes.version=\"2.27\" xes.features=\"nested-attributes\" xes.version=\"2.0\">\n",
      "  <extension name=\"Lifecycle\" prefix=\"lifecycle\" uri=\"http://www.xes-standard.org/lifecycle.xesext\"/>\n",
      "  <extension name=\"Organizational\" prefix=\"org\" uri=\"http://www.xes-standard.org/org.xesext\"/>\n",
      "  <extension name=\"Time\" prefix=\"time\" uri=\"http://www.xes-standard.org/time.xesext\"/>\n",
      "  <extension name=\"Concept\" prefix=\"concept\" uri=\"http://www.xes-standard.org/concept.xesext\"/>\n",
      "  <extension name=\"Cost\" prefix=\"cost\" uri=\"http://www.xes-standard.org/cost.xesext\"/>\n",
      "</log>\n",
      "\n"
     ]
    }
   ],
   "source": [
    "# CREAZIONE PREAMBOLO DOCUMENTO XES\n",
    "root = Element(\"log\", {'xes.version':\"2.0\", 'xes.features':\"nested-attributes\", 'openxes.version':\"2.27\"})\n",
    "\n",
    "SubElement(root, \"extension\", name=\"Lifecycle\", prefix=\"lifecycle\", uri=\"http://www.xes-standard.org/lifecycle.xesext\" )\n",
    "SubElement(root, \"extension\", name=\"Organizational\", prefix=\"org\", uri=\"http://www.xes-standard.org/org.xesext\" )\n",
    "SubElement(root, \"extension\", name=\"Time\", prefix=\"time\", uri=\"http://www.xes-standard.org/time.xesext\" )\n",
    "SubElement(root, \"extension\", name=\"Concept\", prefix=\"concept\", uri=\"http://www.xes-standard.org/concept.xesext\" )\n",
    "SubElement(root, \"extension\", name=\"Cost\", prefix=\"cost\", uri=\"http://www.xes-standard.org/cost.xesext\" )\n",
    "\n",
    "current_tree()"
   ]
  },
  {
   "cell_type": "code",
   "execution_count": 8,
   "id": "2a31f320-840d-440b-8c79-a8689e01b741",
   "metadata": {},
   "outputs": [],
   "source": [
    "# SCRITTURA CONTENUTO FILE XES\n",
    "traces = [ SubElement(root, \"trace\") for _ in transactions ]  # viene creato l'insieme di oggetti SubElement che hanno come contenitore la root\n",
    "\n",
    "for i, trace in enumerate(traces):  # per ogni traccia\n",
    "    SubElement(trace, \"string\", key=\"concept:name\", value=f'trace_{i}' )\n",
    "    for item in transactions[i]:  # per ogni evento di una traccia\n",
    "        e = SubElement(trace, \"event\")\n",
    "        SubElement(e, \"date\", key=\"time:timestamp\", value=time_string(item[0]) )\n",
    "        SubElement(e, \"string\", key=\"concept:name\", value=item[1] )\n",
    "        SubElement(e, \"string\", key=\"org:group\", value=\"partecipant\" )\n",
    "        SubElement(e, \"string\", key=\"lifecycle:transition\", value=\"complete\" )\n",
    "\n",
    "#current_tree()"
   ]
  },
  {
   "cell_type": "code",
   "execution_count": 9,
   "id": "d5b95a71-6cff-4679-8e7a-9fdefa5d6dc4",
   "metadata": {},
   "outputs": [],
   "source": [
    "# SALVATAGGIO NEL FILE SYSTEM\n",
    "with open('task7.xes', 'w') as f:\n",
    "    f.write(prettify(root))"
   ]
  },
  {
   "cell_type": "markdown",
   "id": "5b07854e",
   "metadata": {},
   "source": [
    "## Alcuni risultati mostrati da Apromore\n",
    "\n",
    "![Apri Jupyter per visualizzare l'immagine](./images/task7_case_frequency_5_10.png)\n",
    "\n",
    "![Apri Jupyter per visualizzare l'immagine](./images/task7_average_duration_5_10_bpmn.png)"
   ]
  }
 ],
 "metadata": {
  "kernelspec": {
   "display_name": "Python 3 (ipykernel)",
   "language": "python",
   "name": "python3"
  },
  "language_info": {
   "codemirror_mode": {
    "name": "ipython",
    "version": 3
   },
   "file_extension": ".py",
   "mimetype": "text/x-python",
   "name": "python",
   "nbconvert_exporter": "python",
   "pygments_lexer": "ipython3",
   "version": "3.7.11"
  }
 },
 "nbformat": 4,
 "nbformat_minor": 5
}
